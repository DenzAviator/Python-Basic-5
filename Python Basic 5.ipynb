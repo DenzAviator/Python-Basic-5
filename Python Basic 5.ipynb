{
 "cells": [
  {
   "cell_type": "markdown",
   "id": "3c1957db",
   "metadata": {},
   "source": [
    "1. What does an empty dictionary's code look like?"
   ]
  },
  {
   "cell_type": "markdown",
   "id": "41692f5f",
   "metadata": {},
   "source": [
    "An empty dictionary is represented by a pair of curly braces \"{}\""
   ]
  },
  {
   "cell_type": "code",
   "execution_count": 5,
   "id": "90fbd635",
   "metadata": {},
   "outputs": [
    {
     "name": "stdout",
     "output_type": "stream",
     "text": [
      "{}\n"
     ]
    }
   ],
   "source": [
    "#Example\n",
    "my_dict = {}\n",
    "print(my_dict)"
   ]
  },
  {
   "cell_type": "code",
   "execution_count": null,
   "id": "d54f4400",
   "metadata": {},
   "outputs": [],
   "source": []
  },
  {
   "cell_type": "markdown",
   "id": "02c8adde",
   "metadata": {},
   "source": [
    "2. What is the value of a dictionary value with the key 'foo' and the value 42?"
   ]
  },
  {
   "cell_type": "markdown",
   "id": "ef71c02b",
   "metadata": {},
   "source": [
    "The value of a dictionary with key 'fool' and the value '42' would be '42'."
   ]
  },
  {
   "cell_type": "code",
   "execution_count": 10,
   "id": "45f5153d",
   "metadata": {},
   "outputs": [
    {
     "name": "stdout",
     "output_type": "stream",
     "text": [
      "42\n"
     ]
    }
   ],
   "source": [
    "#Example\n",
    "my_dict = {\"fool\":42}\n",
    "value = my_dict['fool']\n",
    "print(value)"
   ]
  },
  {
   "cell_type": "code",
   "execution_count": null,
   "id": "9eec6a7a",
   "metadata": {},
   "outputs": [],
   "source": []
  },
  {
   "cell_type": "markdown",
   "id": "c5711fdb",
   "metadata": {},
   "source": [
    "3. What is the most significant distinction between a dictionary and a list?"
   ]
  },
  {
   "cell_type": "markdown",
   "id": "987b3f20",
   "metadata": {},
   "source": [
    "The most common distinction between dictionary and a list is:-\n",
    "    \n",
    "    Dictionaries store data based on unique keys, while lists store data based on indices\n",
    "    "
   ]
  },
  {
   "cell_type": "code",
   "execution_count": 19,
   "id": "5fe2c7f3",
   "metadata": {},
   "outputs": [
    {
     "name": "stdout",
     "output_type": "stream",
     "text": [
      "{'name': 'Dennis', 'age': 30}\n"
     ]
    }
   ],
   "source": [
    "# Creating a dictionary\n",
    "student = {\"name\":\"Dennis\",\"age\":30}\n",
    "print(student)"
   ]
  },
  {
   "cell_type": "code",
   "execution_count": 20,
   "id": "154733a5",
   "metadata": {},
   "outputs": [
    {
     "name": "stdout",
     "output_type": "stream",
     "text": [
      "country\n"
     ]
    }
   ],
   "source": [
    "# Creating a list\n",
    "country = [\"Nigerai\",\"India\",\"Jamaica\"]\n",
    "print(\"country\")"
   ]
  },
  {
   "cell_type": "code",
   "execution_count": null,
   "id": "d2651b3e",
   "metadata": {},
   "outputs": [],
   "source": []
  },
  {
   "cell_type": "markdown",
   "id": "26a208b9",
   "metadata": {},
   "source": [
    "4. What happens if you try to access spam['foo'] if spam is {'bar': 100}?"
   ]
  },
  {
   "cell_type": "markdown",
   "id": "6fa0deb5",
   "metadata": {},
   "source": [
    "If you try to access 'spam['foo']' and 'spam' is '{'bar':100}', you will get a 'keyError' because the key 'fool' does not exist in the dictionary 'spam'. The 'KeyError' indicates that the specified key is not present in the dictionary, and attempting to access it directly will result in an error."
   ]
  },
  {
   "cell_type": "code",
   "execution_count": null,
   "id": "64255234",
   "metadata": {},
   "outputs": [],
   "source": [
    "# Example of what happens when you try to access 'spam[fool]' with 'spam' being '{'bar':100}'\n",
    "\n",
    "spam = {'bar':100}\n",
    "\n",
    "value = spam['fool'] # Raises a KeyError: 'fool'"
   ]
  },
  {
   "cell_type": "code",
   "execution_count": null,
   "id": "1dcf066a",
   "metadata": {},
   "outputs": [],
   "source": []
  },
  {
   "cell_type": "markdown",
   "id": "69c4f78a",
   "metadata": {},
   "source": [
    "5. If a dictionary is stored in spam, what is the difference between the expressions 'cat' in spam and 'cat' in spam.keys()?"
   ]
  },
  {
   "cell_type": "markdown",
   "id": "38eebe33",
   "metadata": {},
   "source": [
    "If a dictionary is stored in the variable 'spam', the expression 'cat' in spam' checks if the the key 'cat' exists in the dictionary. On the other hand, the expression 'cat' in spam.keys()' checks if the 'cat' exists specifically in the keys of the dictionary."
   ]
  },
  {
   "cell_type": "code",
   "execution_count": 4,
   "id": "2870975e",
   "metadata": {},
   "outputs": [
    {
     "name": "stdout",
     "output_type": "stream",
     "text": [
      "True\n",
      "True\n",
      "False\n"
     ]
    }
   ],
   "source": [
    "# cat in spam\n",
    "spam = {'cat':'meow','dog':'woof'}\n",
    "print('cat' in spam) \n",
    "print('dog' in spam)\n",
    "print('bird' in spam)"
   ]
  },
  {
   "cell_type": "code",
   "execution_count": 6,
   "id": "d273cdec",
   "metadata": {},
   "outputs": [
    {
     "name": "stdout",
     "output_type": "stream",
     "text": [
      "True\n",
      "False\n",
      "True\n",
      "False\n"
     ]
    }
   ],
   "source": [
    "# cat in spam.keys()\n",
    "spam = {'cat':'meow','dog':'woof'}\n",
    "print('cat' in spam.keys())\n",
    "print('meow' in spam.keys())\n",
    "print('dog' in spam.keys())\n",
    "print('woof' in spam.keys())"
   ]
  },
  {
   "cell_type": "markdown",
   "id": "732c7006",
   "metadata": {},
   "source": [
    " In summary 'cat' in spam' checks if the key 'cat' exists in the dictionary, while 'cat' in spam.keys()' checks if the key 'cat' exists specifically among the keys of the dictionary"
   ]
  },
  {
   "cell_type": "code",
   "execution_count": null,
   "id": "5a85f381",
   "metadata": {},
   "outputs": [],
   "source": []
  },
  {
   "cell_type": "markdown",
   "id": "58248aa4",
   "metadata": {},
   "source": [
    "6. If a dictionary is stored in spam, what is the difference between the expressions 'cat' in spam and 'cat' in spam.values()?\n",
    "\n",
    "If a dictionary is stored in the variable spam, the expression 'cat' in spam checks if the key 'cat' exists in the dictionary spam. It will return True if the key 'cat' is present in spam as a key and False otherwise. This expression specifically checks for the presence of the key 'cat' in the dictionary spam.\n",
    "\n",
    "On the other hand, the expression 'cat' in spam.values() checks if the value 'cat' exists in any of the values in the dictionary spam. It will return True if any of the values in spam is equal to 'cat', and False otherwise. This expression searches for the presence of the value 'cat' within the values of the dictionary spam, rather than checking for the key itself.\n",
    "\n",
    "To summarize, 'cat' in spam checks if 'cat' is a key in the dictionary spam, while 'cat' in spam.values() checks if 'cat' is a value in any of the values stored in the dictionary spam."
   ]
  },
  {
   "cell_type": "code",
   "execution_count": null,
   "id": "8af90c18",
   "metadata": {},
   "outputs": [],
   "source": []
  },
  {
   "cell_type": "markdown",
   "id": "9cd187a3",
   "metadata": {},
   "source": [
    "7. What is a shortcut for the following code?\n",
    "\n",
    "if 'color' not in spam:\n",
    "\n",
    "spam['color'] = 'black'\n",
    "\n",
    "The dictionary is initially empty. The code assigns the value of 'black' to the key 'color' using the 'dict.get()' method, which ensures that if the key doesn't exist, it will be created with the default value 'black'  \n",
    "\n",
    "The code retrieves the value for the key 'color' from the 'spam' dictionary. If the key is not present, it sets the value to 'black'. if the key already exists, it keeps the existing value without modifying it. "
   ]
  },
  {
   "cell_type": "code",
   "execution_count": null,
   "id": "b25ea2ea",
   "metadata": {},
   "outputs": [],
   "source": []
  },
  {
   "cell_type": "markdown",
   "id": "4c84d40f",
   "metadata": {},
   "source": [
    "8. How do you \"pretty print\" dictionary values using which module and function? \n",
    "\n",
    "To \"pretty print\" dictionary values in python, you can use the the 'pprint' module aand its 'pprint()' function. The 'pprint' module provides a way to generate more readable and well-formatted output, especially for complex data structures like dicctionaries."
   ]
  },
  {
   "cell_type": "code",
   "execution_count": 1,
   "id": "f6106c79",
   "metadata": {},
   "outputs": [
    {
     "name": "stdout",
     "output_type": "stream",
     "text": [
      "{'age': 28,\n",
      " 'city': 'Lagos',\n",
      " 'friends': {'Davies': 8, 'Giwa': 3, 'Grace': 6},\n",
      " 'interests': ['reading', 'coding', 'traveling'],\n",
      " 'name': 'Dennis'}\n"
     ]
    }
   ],
   "source": [
    "import pprint\n",
    "\n",
    "my_dict = {\n",
    "    'name' : 'Dennis',\n",
    "    'age' : 28,\n",
    "    'city' : 'Lagos',\n",
    "    'interests': ['reading', 'coding', 'traveling'],\n",
    "    'friends' : {\n",
    "        'Grace' : 6,\n",
    "        'Davies' : 8,\n",
    "        'Giwa' : 3\n",
    "    }\n",
    "}\n",
    "\n",
    "pprint.pprint(my_dict)"
   ]
  },
  {
   "cell_type": "code",
   "execution_count": null,
   "id": "a7edb88a",
   "metadata": {},
   "outputs": [],
   "source": []
  }
 ],
 "metadata": {
  "kernelspec": {
   "display_name": "Python 3 (ipykernel)",
   "language": "python",
   "name": "python3"
  },
  "language_info": {
   "codemirror_mode": {
    "name": "ipython",
    "version": 3
   },
   "file_extension": ".py",
   "mimetype": "text/x-python",
   "name": "python",
   "nbconvert_exporter": "python",
   "pygments_lexer": "ipython3",
   "version": "3.10.9"
  }
 },
 "nbformat": 4,
 "nbformat_minor": 5
}
